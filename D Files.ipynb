{
 "cells": [
  {
   "cell_type": "markdown",
   "metadata": {},
   "source": [
    "# [CPSC 222](https://github.com/GonzagaCPSC222) Intro to Data Science\n",
    "[Gonzaga University](https://www.gonzaga.edu/)\n",
    "\n",
    "[Gina Sprint](http://cs.gonzaga.edu/faculty/sprint/)\n",
    "\n",
    "# Files\n",
    "\n",
    "What are our learning objectives for this lesson?\n",
    "* Understand file I/O in Python\n",
    "* Read tables into memory as a list of lists\n",
    "\n",
    "\n",
    "Content used in this lesson is based upon information in the following sources:\n",
    "* None to report"
   ]
  },
  {
   "cell_type": "markdown",
   "metadata": {},
   "source": [
    "## Warm-up Task(s) 9/23\n",
    "* Open your FileFun folder in VS Code\n",
    "* In main.py, define a function called `print_table(data)` that prints the 2D list `data` in a nice table format. Each list should be printed on its own line so it looks like the CSV file we read the data in from:\n",
    "\n",
    "```\n",
    "[id, column1, column2] \n",
    "[001, monday, 14]\n",
    "[002, tuesday, 7]\n",
    "```\n",
    "Once you get the above working, try to print each value one at a time separated by a space and no brackets on the ends (hint: try a nested loop):\n",
    "\n",
    "```\n",
    "id  column1 column2\n",
    "001 monday  14\n",
    "002 tuesday 7\n",
    "```"
   ]
  },
  {
   "cell_type": "markdown",
   "metadata": {},
   "source": [
    "## Today 9/23\n",
    "* Attendance\n",
    "* Announcements\n",
    "* Today\n",
    "    * Finish FileFun\n",
    "    * 2D list practice problem (see below)\n",
    "    * Notes on tabular data\n",
    "\n",
    "### 2D List Practice Problem\n",
    "Write code that generates 50 numbers between 1 and 10 inclusive and puts them in a 2D list that is 10x5 (e.g. 10 rows and 5 columns). The program then does the following using the list:\n",
    "* Prints the numbers in a nice grid format (like a table)\n",
    "* Prints the largest and smallest number in the list\n",
    "* Determines the number of times a user-specified number is in the list \n",
    "* Removes all instances of a user-specified number in the list. If the number is not in the list print the message: \"Sorry, your number is not here!\"\n",
    "\n",
    "Note: for practice with functions, try solving this problem using functions :)"
   ]
  },
  {
   "cell_type": "markdown",
   "metadata": {},
   "source": [
    "## File I/O\n",
    "A simple way to store data is in a *text file*, such as this simple text file, [transactions.txt](https://raw.githubusercontent.com/gsprint23/cpts215/master/lessons/files/transactions.txt), that stores an individual's credit card transaction history. Each line in the file represents a transaction price.\n",
    "\n",
    "To process data in a file, we typically take the following approach:\n",
    "1. Open the file\n",
    "1. Process the file\n",
    "    * Read data (doesn't modify the file) or\n",
    "    * Write data (overwrite existing file) or\n",
    "    * Append data (retains existing information and adds new data)\n",
    "1. Close the file\n",
    "\n",
    "### Opening a File\n",
    "Before we can read from a file or write to a file, we first need to open the file and get a file object (AKA handle). We do this with the built-in function `open()`:"
   ]
  },
  {
   "cell_type": "code",
   "execution_count": 1,
   "metadata": {},
   "outputs": [],
   "source": [
    "# in_file is our variable connecting our program to transactions.txt\n",
    "# transactions.txt is a file I have in a files folder in the same folder as this running Python file\n",
    "in_file = open(r\"files\\transactions.txt\", \"r\")"
   ]
  },
  {
   "cell_type": "markdown",
   "metadata": {},
   "source": [
    "#### File Modes\n",
    "The first argument to `open()` is a string representing the path to the file and the second argument is the file opening *mode*: \n",
    "1. \"r\" for reading\n",
    "    1. File must exist or you will get an error\n",
    "1. \"w\" for writing\n",
    "    1. If the file does not exist, it is created\n",
    "    1. If the file does exist, it is cleared!\n",
    "1. \"a\" is for appending\n",
    "    1. If the file does not exist, it is created\n",
    "    1. If the file does exist, new data written to the file is added at the end of the file\n",
    "\n",
    "You can read more about modes [here](https://docs.python.org/3/tutorial/inputoutput.html#reading-and-writing-files). \n",
    "\n",
    "`open()` returns an object that represents the connection between our program and transactions.txt.\n",
    "\n",
    "#### Paths\n",
    "The directory (or folder) where your Python script is running is called the *current directory*. When you open a file, Python looks for it in the current directory. \n",
    "\n",
    "If a file you want to open is in a directory other than the current directory, you will have to specify its path. \n",
    "\n",
    "Note: On a windows machine, folders and file names in a path are separated by backslashes \"\\\". We know the backslash has a special purpose in Python, to escape certain characters, such as a newline \"\\n\"; therefore, you will have to escape a backslash: \"`\\\\`\" in your path to a file: `\"files\\\\transactions.txt\"`. Alternatively, you can specify your path as a raw string: `r\"files\\transactions.txt\"`. On a Unix-based machine (e.g. Mac, Linux distributions), the forward slash \"/\" is used in paths and you don't have to worry about this issue.\n",
    "\n",
    "### Closing a File\n",
    "When we are done with a file, we should close it with `close()`:"
   ]
  },
  {
   "cell_type": "code",
   "execution_count": 2,
   "metadata": {
    "collapsed": true,
    "jupyter": {
     "outputs_hidden": true
    }
   },
   "outputs": [],
   "source": [
    "in_file.close()"
   ]
  },
  {
   "cell_type": "markdown",
   "metadata": {},
   "source": [
    "### Processing a File\n",
    "Once a file is open, we want to process the data inside the file (reading) or save data to file (writing). Consider the example [transactions.txt](https://raw.githubusercontent.com/gsprint23/cpts111/master/lessons/transactions.txt) we opened earlier.\n",
    "\n",
    "#### Reading from a File\n",
    "We will use the `readline()` function to read in a *single* line in the file (in transactions.txt this is the purchase price as a **string including the newline character \\n**):"
   ]
  },
  {
   "cell_type": "code",
   "execution_count": 4,
   "metadata": {},
   "outputs": [
    {
     "name": "stdout",
     "output_type": "stream",
     "text": [
      "13.42\n",
      " '13.42\\n' <class 'str'>\n",
      "13.42 <class 'float'>\n"
     ]
    }
   ],
   "source": [
    "in_file = open(r\"files\\transactions.txt\", \"r\")\n",
    "transaction = in_file.readline()\n",
    "# note the newline printed!! repr() shows non-printable characters like \\n\n",
    "print(transaction, repr(transaction), type(transaction))\n",
    "transaction = float(transaction)\n",
    "print(transaction, type(transaction))"
   ]
  },
  {
   "cell_type": "markdown",
   "metadata": {},
   "source": [
    "#### Writing to a File\n",
    "Now, let's use use the `write()` function to write the transaction price we just read in to an output file called single_transaction.txt:"
   ]
  },
  {
   "cell_type": "code",
   "execution_count": 5,
   "metadata": {},
   "outputs": [],
   "source": [
    "# creates the file if it does not exist\n",
    "# overwrites the file contents if it does exist\n",
    "out_file = open(r\"files\\single_transaction.txt\", \"w\")\n",
    "# save the value of transaction as string\n",
    "out_file.write(\"%.2f\" %(transaction))\n",
    "\n",
    "# close file because we are done with out_file\n",
    "out_file.close()"
   ]
  },
  {
   "cell_type": "markdown",
   "metadata": {},
   "source": [
    "### Example Problem\n",
    "On average, how much money do I spend per credit card transaction?\n",
    "\n",
    "Algorithm:\n",
    "1. For each transaction\n",
    "    1. Read in the purchase price from file\n",
    "    1. Accumulate the total money spent so far\n",
    "1. Divide total money spent by total number of transactions\n",
    "1. Write the average transaction to file"
   ]
  },
  {
   "cell_type": "code",
   "execution_count": 12,
   "metadata": {},
   "outputs": [],
   "source": [
    "def read_transaction_price(in_file):\n",
    "    '''\n",
    "    \n",
    "    '''\n",
    "    # readline() returns a string, including the newline character\n",
    "    price = in_file.readline()\n",
    "    # we need to convert the string returned by readline() to a numeric value\n",
    "    return float(price)\n",
    "\n",
    "def compute_total_spent():\n",
    "    '''\n",
    "    \n",
    "    '''\n",
    "    total_spent = 0.0\n",
    "    \n",
    "    in_file = open(r\"files\\transactions.txt\", \"r\")\n",
    "\n",
    "    # read in all 5 transactions in the file\n",
    "    for i in range(5):\n",
    "        total_spent += read_transaction_price(in_file)\n",
    "    \n",
    "    # close the file before in_file goes out of scope\n",
    "    in_file.close()\n",
    "    \n",
    "    return total_spent\n",
    "\n",
    "total_spent = compute_total_spent()\n",
    "\n",
    "avg_spent_per_transaction = total_spent / 5.0\n",
    "\n",
    "out_file = open(r\"files\\avg_transaction.txt\", \"w\")\n",
    "out_file.write(\"On average, you spend %.2f per transaction\" %(avg_spent_per_transaction))\n",
    "out_file.close()"
   ]
  },
  {
   "cell_type": "markdown",
   "metadata": {},
   "source": [
    "## File Reading\n",
    "### `for` Loops\n",
    "Let's rewrite our transaction code to read in as many transactions as there are in the file (instead of the hard-coded 5). Using a `for` loop, `<sequence>` will be all of the lines in the input file, which we can get with a call to `in_file.readlines()`. Our `for` loop will walk through each line one at time with a loop control variable called `line`."
   ]
  },
  {
   "cell_type": "code",
   "execution_count": 13,
   "metadata": {},
   "outputs": [
    {
     "name": "stdout",
     "output_type": "stream",
     "text": [
      "27.19\n",
      "\n",
      "9.98\n",
      "\n",
      "48.56\n",
      "\n",
      "33.71\n",
      "On average, you spend 29.86 per transaction\n"
     ]
    }
   ],
   "source": [
    "def compute_avg_spent():\n",
    "    '''\n",
    "    \n",
    "    '''\n",
    "    # accumulator variable\n",
    "    total_spent = 0.0\n",
    "    # count the transactions\n",
    "    num_transactions = 0\n",
    "\n",
    "    # the input file contains lines that we will iterate through as our items\n",
    "    for line in in_file.readlines():\n",
    "        print(line)\n",
    "        total_spent += float(line)\n",
    "        num_transactions += 1\n",
    "    \n",
    "    # close the file before in_file goes out of scope\n",
    "    in_file.close()\n",
    "    \n",
    "    return total_spent / num_transactions\n",
    "\n",
    "avg_spent_per_transaction = compute_avg_spent()\n",
    "\n",
    "print(\"On average, you spend %.2f per transaction\" %(avg_spent_per_transaction))"
   ]
  },
  {
   "cell_type": "markdown",
   "metadata": {},
   "source": [
    "Note: There is another file function, `read()` that will read the entire file into a single string, not a single line as we did with `readlines()`.  When we learn more about strings, this function will be more useful. For now, let's stick with `readlines()`."
   ]
  },
  {
   "cell_type": "markdown",
   "metadata": {},
   "source": [
    "### `while` Loops \n",
    "Let's rewrite our transaction processing code to use a `while` loop. `readline()` will return an empty string when the end of the file is reached. This can be used in our Boolean condition:"
   ]
  },
  {
   "cell_type": "code",
   "execution_count": 14,
   "metadata": {},
   "outputs": [
    {
     "name": "stdout",
     "output_type": "stream",
     "text": [
      "13.42\n",
      "\n",
      "27.19\n",
      "\n",
      "9.98\n",
      "\n",
      "48.56\n",
      "\n",
      "33.71\n",
      "On average, you spend 26.57 per transaction\n"
     ]
    }
   ],
   "source": [
    "def compute_avg_spent():\n",
    "    '''\n",
    "    \n",
    "    '''\n",
    "    # accumulator variable\n",
    "    total_spent = 0.0\n",
    "    # count the transactions\n",
    "    num_transactions = 0\n",
    "    \n",
    "    in_file = open(r\"files\\transactions.txt\", \"r\")\n",
    "\n",
    "    # read the first line in the file\n",
    "    spent = in_file.readline()\n",
    "    # test if this line is the empty string, meaning the end of file has been reached\n",
    "    while spent != \"\":\n",
    "        # not end of file, process this transaction\n",
    "        print(spent)\n",
    "        total_spent += float(spent)\n",
    "        num_transactions += 1\n",
    "        # progress toward Boolean condition being False here is progress through the file\n",
    "        spent = in_file.readline()\n",
    "    \n",
    "    # close the file before in_file goes out of scope\n",
    "    in_file.close()\n",
    "    \n",
    "    return total_spent / num_transactions\n",
    "\n",
    "avg_spent_per_transaction = compute_avg_spent()\n",
    "\n",
    "print(\"On average, you spend %.2f per transaction\" %(avg_spent_per_transaction))"
   ]
  },
  {
   "cell_type": "markdown",
   "metadata": {},
   "source": [
    "## The File \"Cursor\"\n",
    "When you open a file for reading (\"r\" mode), the cursor marking the current position at which to read from starts at the beginning of the file (position 0). As `readlines()` is called, the cursor moves through the file. As `readlines()` is called, the cursor moves through the file. To find out the position of the cursor, you can call `tell()`:"
   ]
  },
  {
   "cell_type": "code",
   "execution_count": 16,
   "metadata": {},
   "outputs": [
    {
     "name": "stdout",
     "output_type": "stream",
     "text": [
      "File cursor is at position: 0\n",
      "File cursor is at position: 7\n",
      "First line contains: '13.42\\n' which contains 6 characters (including newline)\n"
     ]
    }
   ],
   "source": [
    "in_file = open(r\"files\\transactions.txt\", \"r\")\n",
    "\n",
    "print(\"File cursor is at position: %d\" %(in_file.tell()))\n",
    "\n",
    "# read data from the file advances the cursor by a certain number of bytes, depending on the number of characters in the line\n",
    "transaction = in_file.readline()\n",
    "print(\"File cursor is at position: %d\" %(in_file.tell()))\n",
    "# %r placeholder displays all characters in a string. we use it see the newline character as \\n\n",
    "print(\"First line contains: %r which contains %d characters (including newline)\" %(transaction, len(transaction)))\n",
    "in_file.close()"
   ]
  },
  {
   "cell_type": "markdown",
   "metadata": {},
   "source": [
    "To move the cursor back to the beginning of the file, you can either:\n",
    "1. Close the file and re-open it\n",
    "1. Use `seek(0,0)`:"
   ]
  },
  {
   "cell_type": "code",
   "execution_count": 17,
   "metadata": {},
   "outputs": [
    {
     "name": "stdout",
     "output_type": "stream",
     "text": [
      "File cursor is at position: 0\n",
      "File cursor is at position: 7\n",
      "First line contains: '13.42\\n' which contains 6 characters (including newline)\n",
      "File cursor is at position: 0\n"
     ]
    }
   ],
   "source": [
    "in_file = open(r\"files\\transactions.txt\", \"r\")\n",
    "\n",
    "print(\"File cursor is at position: %d\" %(in_file.tell()))\n",
    "\n",
    "# read data from the file advances the cursor by a certain number of bytes, depending on the number of characters in the line\n",
    "transaction = in_file.readline()\n",
    "print(\"File cursor is at position: %d\" %(in_file.tell()))\n",
    "# %r placeholder displays all characters in a string. we use it see the newline character as \\n\n",
    "# len() returns the number of characters in the string\n",
    "print(\"First line contains: %r which contains %d characters (including newline)\" %(transaction, len(transaction)))\n",
    "# move the cursor back to the beginning of the file\n",
    "in_file.seek(0,0) \n",
    "print(\"File cursor is at position: %d\" %(in_file.tell()))\n",
    "in_file.close()"
   ]
  },
  {
   "cell_type": "markdown",
   "metadata": {},
   "source": [
    "Note: In the code above I used a built-in function called [`len()`](https://docs.python.org/3/library/functions.html#len). `len()` accepts a string as an argument and returns the number of characters in the string.\n",
    "\n",
    "Digression: On Windows, newlines are actually represented by \\r\\n (carriage return and newline). Python combines the carriage return and newline for us so we don't have to worry about this. Knowing this least helps explain the cursor position of 7 above.\n",
    "\n",
    "|Position|0|1|2|3|4|5|6|7|8|...|\n",
    "|-|-|-|-|-|-|-|-|-|-|-|\n",
    "|Character|1|3|.|4|2|\\r|\\n|2|7|...|\n",
    "\n",
    "We can remove whitespace characters (like \\n and \\r) with a call to a string function `strip()`:"
   ]
  },
  {
   "cell_type": "markdown",
   "metadata": {},
   "source": [
    "## Removing Leading and Trailing Whitespace Characters\n",
    "We can remove whitespace characters (like `\\n`) with a call to a string function `strip()`:"
   ]
  },
  {
   "cell_type": "code",
   "execution_count": 18,
   "metadata": {},
   "outputs": [
    {
     "name": "stdout",
     "output_type": "stream",
     "text": [
      "First line:  '13.42\\n'\n",
      "First line stripping leading/trailing whitespace characters:  '13.42'\n"
     ]
    }
   ],
   "source": [
    "in_file = open(r\"files\\transactions.txt\", \"r\")\n",
    "\n",
    "# read data from the file advances the cursor by a certain number of bytes, \n",
    "# depending on the number of characters in the line\n",
    "transaction = in_file.readline()\n",
    "\n",
    "# repr() displays all characters in a string. we use it see the newline character as \\n\n",
    "print(\"First line: \", repr(transaction))\n",
    "in_file.close()\n",
    "print(\"First line stripping leading/trailing whitespace characters: \", repr(transaction.strip()))"
   ]
  },
  {
   "cell_type": "markdown",
   "metadata": {},
   "source": [
    "## Revisiting `print()`\n",
    "There are several ways to print strings with the `print()` function. It is helpful to be aware of other printing approaches, especially when you want to format output a particular way. Check out these different ways to print:"
   ]
  },
  {
   "cell_type": "code",
   "execution_count": 19,
   "metadata": {},
   "outputs": [
    {
     "name": "stdout",
     "output_type": "stream",
     "text": [
      "Integer: 7, Float: 8.489890, Float with 1 decimal: 3.1, String: :)\n",
      "4 5.5 :P 8\n",
      "A comma, separated, list\n",
      "A string without the added newline characterThis sentence runs into the previous!\n",
      "An alternative form of placholders 10.0. You can also use keywords cpts215\n"
     ]
    }
   ],
   "source": [
    "# format string and placeholders\n",
    "print(\"Integer: %d, Float: %f, Float with 1 decimal: %.1f, String: %s\" %(7, 8.4898899, 3.14, \":)\"))\n",
    "\n",
    "# arguments displayed separated by spaces\n",
    "print(4, 5.5, \":P\", 8)\n",
    "# specifying the delimiter between arguments (a comma and a space)\n",
    "print(\"A comma\", \"separated\", \"list\", sep=\", \")\n",
    "\n",
    "# specifying the string concatenated to the end\n",
    "print(\"A string without the added newline character\", end=\"\")\n",
    "print(\"This sentence runs into the previous\", end=\"!\\n\")\n",
    "\n",
    "# https://docs.python.org/3/library/string.html\n",
    "print(\"An {} form of placholders {:.1f}. You can also use keywords {name}\".format(\"alternative\", 9.99, name=\"cpts215\"))\n",
    "\n",
    "# alternative way to write to a file using print() instead of write()\n",
    "outfile = open(r\"files\\out_demo.txt\", \"w\")\n",
    "print(\"Writing this output via print()\", file=outfile)\n",
    "outfile.close()"
   ]
  },
  {
   "cell_type": "markdown",
   "metadata": {},
   "source": [
    "## Practice Problem\n",
    "For the following problems, we will need to download a file: [words.txt](https://raw.githubusercontent.com/gsprint23/aha/master/lessons/files/words.txt). This file contains 113,809 official crossword words, one per line. Using words.txt, write a program with the following functionality:\n",
    "1. A function called `open_input_file()` that opens words.txt for reading and returns the file object associated with words.txt\n",
    "1. A function called `close_file()` that accepts the file object as an argument and closes the file\n",
    "1. A function called `first_five_words()` that displays the first 5 words of the file. Try to display the words one on each line, without an extra newline between the words like:\n",
    "```\n",
    "aa\n",
    "aah\n",
    "aahed\n",
    "aahing\n",
    "aahs\n",
    "```\n",
    "Hint: read the [Python input/output tutorial](https://docs.python.org/3/tutorial/inputoutput.html) for more info about how to do this with `print()`."
   ]
  },
  {
   "cell_type": "code",
   "execution_count": 20,
   "metadata": {},
   "outputs": [
    {
     "name": "stdout",
     "output_type": "stream",
     "text": [
      "aa\n",
      "aah\n",
      "aahed\n",
      "aahing\n",
      "aahs\n"
     ]
    }
   ],
   "source": [
    "def open_input_file(fname):\n",
    "    '''\n",
    "    \n",
    "    '''\n",
    "    in_file = open(fname, \"r\")\n",
    "    return in_file\n",
    "\n",
    "def close_file(file_2_close):\n",
    "    '''\n",
    "    \n",
    "    '''\n",
    "    file_2_close.close()\n",
    "    \n",
    "def first_five_words(in_file):\n",
    "    '''\n",
    "    \n",
    "    '''\n",
    "    for i in range(5):\n",
    "        print(in_file.readline(), end=\"\")\n",
    "\n",
    "def main():\n",
    "    '''\n",
    "    \n",
    "    '''\n",
    "    fin = open_input_file(r\"files\\words.txt\")\n",
    "    first_five_words(fin)\n",
    "    close_file(fin)\n",
    "    \n",
    "main()"
   ]
  },
  {
   "cell_type": "markdown",
   "metadata": {},
   "source": [
    "## Reading in Tables\n",
    "Assume files stored in “Comma Separated Values” (CSV) format:\n",
    "\n",
    "18.0,8,307.0,130.0,3504,12.0,70,1,chevrolet chevelle malibu,2881\n",
    "15.0,8,350.0,165.0,3693,11.5,70,1,buick skylark 320,2847\n",
    "18.0,8,318.0,150.0,3436,11.0,70,1,plymouth satellite,2831\n",
    "...\n",
    "\n",
    "Use the csv module to read in datasets\n",
    "* here we are storing a dataset as a list of lists (sublists are rows)"
   ]
  },
  {
   "cell_type": "code",
   "execution_count": 1,
   "metadata": {},
   "outputs": [],
   "source": [
    "import csv\n",
    "\n",
    "def read_csv(filename):\n",
    "    '''\n",
    "    Reads in a csv file and returns a table as a list of lists (rows)\n",
    "    '''\n",
    "    \n",
    "    the_file = open(filename, 'r')\n",
    "    the_reader = csv.reader(the_file, dialect='excel')\n",
    "    table = []\n",
    "    for row in the_reader:\n",
    "        if len(row) > 0:\n",
    "            table.append(row)\n",
    "    the_file.close()\n",
    "    return table"
   ]
  }
 ],
 "metadata": {
  "anaconda-cloud": {},
  "kernelspec": {
   "display_name": "Python 3",
   "language": "python",
   "name": "python3"
  },
  "language_info": {
   "codemirror_mode": {
    "name": "ipython",
    "version": 3
   },
   "file_extension": ".py",
   "mimetype": "text/x-python",
   "name": "python",
   "nbconvert_exporter": "python",
   "pygments_lexer": "ipython3",
   "version": "3.7.4"
  }
 },
 "nbformat": 4,
 "nbformat_minor": 4
}
