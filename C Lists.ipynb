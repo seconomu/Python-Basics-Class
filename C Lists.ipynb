{
 "cells": [
  {
   "cell_type": "markdown",
   "metadata": {},
   "source": [
    "# [CPSC 222](https://github.com/GonzagaCPSC222) Intro to Data Science\n",
    "[Gonzaga University](https://www.gonzaga.edu/)\n",
    "\n",
    "[Gina Sprint](http://cs.gonzaga.edu/faculty/sprint/)\n",
    "\n",
    "\n",
    "# Lists\n",
    "\n",
    "What are our learning objectives for this lesson?\n",
    "* Work with lists\n",
    "* Learn about object aliasing\n",
    "* Pass arguments into programs via command line arguments\n",
    "\n",
    "Content used in this lesson is based upon information in the following sources:\n",
    "* None to report"
   ]
  },
  {
   "cell_type": "markdown",
   "metadata": {},
   "source": [
    "## Warm-up Task(s) 9/16\n",
    "* Open PythonBasicsFun\n",
    "    * Try running `help(print)`\n",
    "        * What happens?\n",
    "        * Press the Q key to exit\n",
    "    * Get ready to define and call some functions :)"
   ]
  },
  {
   "cell_type": "markdown",
   "metadata": {},
   "source": [
    "## Today 9/16\n",
    "* Attendance\n",
    "* Announcements\n",
    "    * DA1 is due tonight\n",
    "        * Note the late policy\n",
    "        * Note that if you can find data in csv, xlsx, txt, or json formats, that will be great for the project\n",
    "        * Questions on it?\n",
    "    * DA2 will be posted later today\n",
    "    * PQ3 is due Monday night\n",
    "* PythonBasicsFun\n",
    "    * PythonBasicsFun: functions\n",
    "    * ListFun: list practice problems\n",
    "    * IQ2 last ~15 mins of class"
   ]
  },
  {
   "cell_type": "markdown",
   "metadata": {},
   "source": [
    "## Lists\n",
    "In Python, we can have sequences of items other than characters. For example, we can have sequences of:\n",
    "* Numbers\n",
    "    * Integers\n",
    "    * Floats\n",
    "* Objects\n",
    "    * Strings\n",
    "    * Files\n",
    "    * Turtles\n",
    "    * Our own objects we define ourselves (to be learned later, stay tuned!)\n",
    "    \n",
    "A list is a *sequence of items*. In a string, the items are characters. In a list, they can be any type. Items in a list are also called *elements*.\n",
    "\n",
    "We declare a sequence of items as a list with hard brackets: `[<comma separated list items>]`"
   ]
  },
  {
   "cell_type": "code",
   "execution_count": 1,
   "metadata": {},
   "outputs": [
    {
     "name": "stdout",
     "output_type": "stream",
     "text": [
      "[0, 1, 10, 20]\n",
      "[0.2, 0.4, 0.6, 1.0]\n",
      "[0, 0.0, 1, 1.0, -2]\n",
      "['cat', 'dog', 'bird']\n"
     ]
    }
   ],
   "source": [
    "list_ints = [0, 1, 10, 20]\n",
    "print(list_ints)\n",
    "\n",
    "list_floats = [0.2, 0.4, 0.6, 1.0]\n",
    "print(list_floats)\n",
    "\n",
    "# types can be mixed in a list\n",
    "list_numbers = [0, 0.0, 1, 1.0, -2]\n",
    "print(list_numbers)\n",
    "\n",
    "list_strings = [\"cat\", \"dog\", \"bird\"]\n",
    "print(list_strings)"
   ]
  },
  {
   "cell_type": "markdown",
   "metadata": {},
   "source": [
    "Note: the data types in a list need not all be the same.\n",
    "\n",
    "### List Indexing\n",
    "Just like with strings, list indices are 0-based. We can index into a list to access a list item just like how we indexed into a string to get an individual character:"
   ]
  },
  {
   "cell_type": "code",
   "execution_count": 2,
   "metadata": {},
   "outputs": [
    {
     "name": "stdout",
     "output_type": "stream",
     "text": [
      "0\n"
     ]
    }
   ],
   "source": [
    "print(list_ints[0])"
   ]
  },
  {
   "cell_type": "markdown",
   "metadata": {},
   "source": [
    "### List Length\n",
    "We can also use then `len()` function to determine the number of items in a list:"
   ]
  },
  {
   "cell_type": "code",
   "execution_count": 3,
   "metadata": {},
   "outputs": [
    {
     "name": "stdout",
     "output_type": "stream",
     "text": [
      "3\n",
      "bird\n"
     ]
    }
   ],
   "source": [
    "print(len(list_strings))\n",
    "print(list_strings[len(list_strings) - 1])"
   ]
  },
  {
   "cell_type": "markdown",
   "metadata": {},
   "source": [
    "### The Empty List\n",
    "Just like how we can have an empty string (`\"\"`), a string with no characters, we can have an empty list (`[]`). An empty list has no items."
   ]
  },
  {
   "cell_type": "code",
   "execution_count": 4,
   "metadata": {},
   "outputs": [
    {
     "name": "stdout",
     "output_type": "stream",
     "text": [
      "0\n"
     ]
    }
   ],
   "source": [
    "empty_list = []\n",
    "print(len(empty_list))"
   ]
  },
  {
   "cell_type": "markdown",
   "metadata": {},
   "source": [
    "### Nested Lists\n",
    "We can have lists of lists!"
   ]
  },
  {
   "cell_type": "code",
   "execution_count": 5,
   "metadata": {},
   "outputs": [
    {
     "name": "stdout",
     "output_type": "stream",
     "text": [
      "[[0, 1], [2], [3], [4, 5], []]\n"
     ]
    }
   ],
   "source": [
    "nested_list = [[0, 1], [2], [3], [4, 5], []]\n",
    "print(nested_list)"
   ]
  },
  {
   "cell_type": "markdown",
   "metadata": {},
   "source": [
    "Note: the sub-lists can be of unequal lengths.\n",
    "\n",
    "Now, consider the following nested list:\n",
    "\n",
    "`matrix = [[1, 2, 3], [4, 5, 6], [7, 8, 9]]`\n",
    "\n",
    "Logically, `matrix` looks like the following:\n",
    "\n",
    "|Column Index:||||\n",
    "|-|-|-|-|\n",
    "||**0**|**1**|**2**|\n",
    "|**Row Index**||||\n",
    "|**0:**|1|2|3|\n",
    "|**1:**|4|5|6|\n",
    "|**2:**|7|8|9|\n",
    "\n",
    "To access an item in a 2-dimensional nested list, we index into the `<nested list variable>` twice: `<nested list variable>[row_index][column_index]` by row first then column. For example: "
   ]
  },
  {
   "cell_type": "code",
   "execution_count": 6,
   "metadata": {},
   "outputs": [
    {
     "name": "stdout",
     "output_type": "stream",
     "text": [
      "[[1, 2, 3], [4, 5, 6], [7, 8, 9]]\n",
      "1\n",
      "9\n",
      "8\n"
     ]
    }
   ],
   "source": [
    "matrix = [[1, 2, 3], [4, 5, 6], [7, 8, 9]]\n",
    "print(matrix)\n",
    "# the first element in the first list\n",
    "print(matrix[0][0])\n",
    "# the last element in the last list\n",
    "print(matrix[2][2])\n",
    "# the middle element in the last list (8)\n",
    "print(matrix[2][1])"
   ]
  },
  {
   "cell_type": "markdown",
   "metadata": {},
   "source": [
    "### Lists are Mutable\n",
    "Unlike strings, we can change the items in a list:"
   ]
  },
  {
   "cell_type": "code",
   "execution_count": 7,
   "metadata": {},
   "outputs": [
    {
     "name": "stdout",
     "output_type": "stream",
     "text": [
      "['Sloan', 'EME', 'Dana', 'ETRL']\n",
      "['Sloan', 'EME', 'Carpenter', 'ETRL']\n"
     ]
    }
   ],
   "source": [
    "buildings = [\"Sloan\", \"EME\", \"Dana\", \"ETRL\"]\n",
    "print(buildings)\n",
    "\n",
    "# modify the list\n",
    "buildings[2] = \"Carpenter\"\n",
    "print(buildings)"
   ]
  },
  {
   "cell_type": "markdown",
   "metadata": {},
   "source": [
    "Note: We still cannot change a string. Strings are immutable!"
   ]
  },
  {
   "cell_type": "markdown",
   "metadata": {},
   "source": [
    "## Looping Through List Items\n",
    "Just like with strings, we can use the `in` operator or indices to iterate through items in a list:"
   ]
  },
  {
   "cell_type": "code",
   "execution_count": 8,
   "metadata": {},
   "outputs": [
    {
     "name": "stdout",
     "output_type": "stream",
     "text": [
      "twix\n",
      "reeses\n",
      "oreos\n",
      "snickers\n",
      "twix\n",
      "reeses\n",
      "oreos\n",
      "snickers\n",
      "twix\n",
      "reeses\n",
      "oreos\n",
      "snickers\n"
     ]
    }
   ],
   "source": [
    "candies = [\"twix\", \"reeses\", \"oreos\", \"snickers\"]\n",
    "\n",
    "for candy in candies:\n",
    "    print(candy)\n",
    "    \n",
    "i = 0\n",
    "while i < len(candies):\n",
    "    print(candies[i])\n",
    "    i += 1\n",
    "    \n",
    "i = 0\n",
    "for i in range(len(candies)):\n",
    "    print(candies[i])"
   ]
  },
  {
   "cell_type": "markdown",
   "metadata": {},
   "source": [
    "## List Operators\n",
    "### List Concatenation\n",
    "Just like with strings, we can use the concatenation `+` operator to add lists together:"
   ]
  },
  {
   "cell_type": "code",
   "execution_count": 9,
   "metadata": {},
   "outputs": [
    {
     "name": "stdout",
     "output_type": "stream",
     "text": [
      "['twix', 'reeses', 'oreos', 'peach rings']\n",
      "['twix', 'reeses', 'oreos', 'peach rings', 'm&ms', 'starburst']\n"
     ]
    }
   ],
   "source": [
    "candies = [\"twix\", \"reeses\", \"oreos\", \"peach rings\"]\n",
    "\n",
    "print(candies)\n",
    "candies += [\"m&ms\", \"starburst\"]\n",
    "print(candies)"
   ]
  },
  {
   "cell_type": "markdown",
   "metadata": {},
   "source": [
    "### List Repetition\n",
    "Just like with strings, we can repeat items in a list with the repetition `*` operator:"
   ]
  },
  {
   "cell_type": "code",
   "execution_count": 10,
   "metadata": {},
   "outputs": [
    {
     "name": "stdout",
     "output_type": "stream",
     "text": [
      "['twix', 'twix', 'twix', 'twix', 'twix']\n",
      "['twix', 'twix', 'twix', 'twix', 'twix', 'peach rings', 'peach rings', 'peach rings']\n"
     ]
    }
   ],
   "source": [
    "bag_o_candies = 5 * [\"twix\"]\n",
    "print(bag_o_candies)\n",
    "\n",
    "bag_o_candies += 3 * [\"peach rings\"]\n",
    "print(bag_o_candies)"
   ]
  },
  {
   "cell_type": "markdown",
   "metadata": {},
   "source": [
    "### List Slicing\n",
    "Just like with strings, we can use the slice operator `:` with lists:"
   ]
  },
  {
   "cell_type": "code",
   "execution_count": 11,
   "metadata": {},
   "outputs": [
    {
     "name": "stdout",
     "output_type": "stream",
     "text": [
      "['reeses', 'oreos']\n",
      "['twix', 'reeses', 'oreos', 'peach rings', 'm&ms', 'starburst']\n"
     ]
    }
   ],
   "source": [
    "print(candies[1:3])\n",
    "# returns a copy\n",
    "print(candies[:])"
   ]
  },
  {
   "cell_type": "markdown",
   "metadata": {},
   "source": [
    "However, since lists are mutable, we can now change multiple items in a list at a time using slices:"
   ]
  },
  {
   "cell_type": "code",
   "execution_count": 12,
   "metadata": {},
   "outputs": [
    {
     "name": "stdout",
     "output_type": "stream",
     "text": [
      "['twix', 'reeses', 'oreos', 'peach rings']\n",
      "['twix', 'reeses', 'oreos', 'butterfinger', 'heath', 'swedish fish']\n",
      "['carmello', 'airheads', 'oreos', 'butterfinger', 'heath', 'swedish fish']\n"
     ]
    }
   ],
   "source": [
    "candies = [\"twix\", \"reeses\", \"oreos\", \"peach rings\"]\n",
    "print(candies)\n",
    "candies[3:] = [\"butterfinger\", \"heath\", \"swedish fish\"]\n",
    "print(candies)\n",
    "candies[0:2] = [\"carmello\", \"airheads\"]\n",
    "print(candies)"
   ]
  },
  {
   "cell_type": "markdown",
   "metadata": {},
   "source": [
    "## List Methods\n",
    "Just like with strings, lists are objects that have methods we can utilize. \n",
    "\n",
    "### `append()`\n",
    "For example, since lists are mutable, there is an `append(<new item>)` method to add an item to the end of a list:"
   ]
  },
  {
   "cell_type": "code",
   "execution_count": 13,
   "metadata": {},
   "outputs": [
    {
     "name": "stdout",
     "output_type": "stream",
     "text": [
      "['Pullman', 'Spokane']\n",
      "['Pullman', 'Spokane', 'Seattle']\n",
      "['Pullman', 'Spokane', 'Seattle', 'Moscow']\n"
     ]
    }
   ],
   "source": [
    "cities = [\"Pullman\", \"Spokane\"]\n",
    "print(cities)\n",
    "\n",
    "# adds the string as an item\n",
    "cities.append(\"Seattle\")\n",
    "print(cities)\n",
    "\n",
    "# adds the list as an item\n",
    "cities.append(\"Moscow\")\n",
    "print(cities)"
   ]
  },
  {
   "cell_type": "markdown",
   "metadata": {},
   "source": [
    "As review, how could we achieve the same functionality as `append()` without using `append()`?"
   ]
  },
  {
   "cell_type": "code",
   "execution_count": 14,
   "metadata": {},
   "outputs": [
    {
     "name": "stdout",
     "output_type": "stream",
     "text": [
      "['Pullman', 'Spokane']\n",
      "['Pullman', 'Spokane', 'Seattle']\n"
     ]
    }
   ],
   "source": [
    "cities = [\"Pullman\", \"Spokane\"]\n",
    "print(cities)\n",
    "\n",
    "# adds the strings as an item\n",
    "cities += [\"Seattle\"]\n",
    "print(cities)"
   ]
  },
  {
   "cell_type": "markdown",
   "metadata": {},
   "source": [
    "### `extend()`\n",
    "`extend()` is similar to `append()`; however, `extend()` takes a list as an argument and adds each item to the list:"
   ]
  },
  {
   "cell_type": "code",
   "execution_count": 15,
   "metadata": {},
   "outputs": [
    {
     "name": "stdout",
     "output_type": "stream",
     "text": [
      "['Pullman', 'Spokane']\n",
      "['Pullman', 'Spokane', 'Seattle', \"Couer d'Alene\"]\n"
     ]
    }
   ],
   "source": [
    "cities = [\"Pullman\", \"Spokane\"]\n",
    "print(cities)\n",
    "\n",
    "# adds each string in the list as an item\n",
    "cities.extend([\"Seattle\", \"Couer d'Alene\"])\n",
    "print(cities)"
   ]
  },
  {
   "cell_type": "markdown",
   "metadata": {},
   "source": [
    "What would happen if we used `append()` instead of `extend()` in the above code?"
   ]
  },
  {
   "cell_type": "code",
   "execution_count": 16,
   "metadata": {},
   "outputs": [
    {
     "name": "stdout",
     "output_type": "stream",
     "text": [
      "['Pullman', 'Spokane']\n",
      "['Pullman', 'Spokane', ['Seattle', \"Couer d'Alene\"]]\n"
     ]
    }
   ],
   "source": [
    "cities = [\"Pullman\", \"Spokane\"]\n",
    "print(cities)\n",
    "cities.append([\"Seattle\", \"Couer d'Alene\"])\n",
    "print(cities)"
   ]
  },
  {
   "cell_type": "markdown",
   "metadata": {},
   "source": [
    "`cities` becomes a nested list!"
   ]
  },
  {
   "cell_type": "markdown",
   "metadata": {},
   "source": [
    "### `sort()`\n",
    "Many applications require lists of items to be sorted. Use the `sort()` list method to do an in-place sort:"
   ]
  },
  {
   "cell_type": "code",
   "execution_count": 51,
   "metadata": {},
   "outputs": [
    {
     "name": "stdout",
     "output_type": "stream",
     "text": [
      "['Pullman', 'Spokane', 'Seattle', \"Couer d'Alene\"]\n",
      "[\"Couer d'Alene\", 'Pullman', 'Seattle', 'Spokane']\n"
     ]
    }
   ],
   "source": [
    "cities = [\"Pullman\", \"Spokane\", \"Seattle\", \"Couer d'Alene\"]\n",
    "print(cities)\n",
    "\n",
    "# ascending order\n",
    "cities.sort()\n",
    "print(cities)"
   ]
  },
  {
   "cell_type": "markdown",
   "metadata": {},
   "source": [
    "How would you sort a list in descending order? Try using `help(cities.sort)` to find out:"
   ]
  },
  {
   "cell_type": "code",
   "execution_count": 52,
   "metadata": {},
   "outputs": [
    {
     "name": "stdout",
     "output_type": "stream",
     "text": [
      "Help on built-in function sort:\n",
      "\n",
      "sort(*, key=None, reverse=False) method of builtins.list instance\n",
      "    Stable sort *IN PLACE*.\n",
      "\n"
     ]
    }
   ],
   "source": [
    "help(cities.sort)"
   ]
  },
  {
   "cell_type": "code",
   "execution_count": 53,
   "metadata": {},
   "outputs": [
    {
     "name": "stdout",
     "output_type": "stream",
     "text": [
      "[\"Couer d'Alene\", 'Pullman', 'Seattle', 'Spokane']\n",
      "['Spokane', 'Seattle', 'Pullman', \"Couer d'Alene\"]\n"
     ]
    }
   ],
   "source": [
    "print(cities)\n",
    "cities.sort(reverse=True)\n",
    "print(cities)"
   ]
  },
  {
   "cell_type": "markdown",
   "metadata": {},
   "source": [
    "Use the `sorted()` function to get a sorted copy of the list."
   ]
  },
  {
   "cell_type": "code",
   "execution_count": 54,
   "metadata": {},
   "outputs": [
    {
     "name": "stdout",
     "output_type": "stream",
     "text": [
      "['Spokane', 'Seattle', 'Pullman', \"Couer d'Alene\"]\n",
      "[\"Couer d'Alene\", 'Pullman', 'Seattle', 'Spokane']\n"
     ]
    }
   ],
   "source": [
    "print(cities)\n",
    "cities_sorted = sorted(cities)\n",
    "print(cities_sorted)"
   ]
  },
  {
   "cell_type": "markdown",
   "metadata": {},
   "source": [
    "To sort a table (e.g. a list of lists), import the `operator` module and use the `key` argument of `sorted()`. For example:"
   ]
  },
  {
   "cell_type": "code",
   "execution_count": 56,
   "metadata": {},
   "outputs": [
    {
     "name": "stdout",
     "output_type": "stream",
     "text": [
      "[[1, 20], [1, 30], [1, 10], [2, 20], [2, 10], [2, 30]]\n",
      "[[2, 10], [1, 10], [2, 20], [1, 20], [2, 30], [1, 30]]\n",
      "[[1, 10], [1, 20], [1, 30], [2, 10], [2, 20], [2, 30]]\n",
      "[[1, 10], [2, 10], [1, 20], [2, 20], [1, 30], [2, 30]]\n"
     ]
    }
   ],
   "source": [
    "import operator\n",
    "\n",
    "table = [[2, 20], [1, 20], [2, 10], [2, 30], [1, 30], [1, 10]]\n",
    "\n",
    "# sort by first row item\n",
    "print(sorted(table, key=operator.itemgetter(0)))\n",
    "# sort by second row item\n",
    "print(sorted(table, key=operator.itemgetter(1)))\n",
    "\n",
    "# to sort on multiple attributes, can use more arguments:\n",
    "# sort by first row item, then second row item\n",
    "print(sorted(table, key=operator.itemgetter(0,1)))\n",
    "# sort by second row item, then first row item\n",
    "print(sorted(table, key=operator.itemgetter(1,0)))"
   ]
  },
  {
   "cell_type": "markdown",
   "metadata": {},
   "source": [
    "## Deleting Items in a List\n",
    "Since lists are mutable, we can delete items in a list. \n",
    "\n",
    "### Single Item Deletes\n",
    "We have two list methods to delete a *single* item in a list\n",
    "1. When you know the *index* of the item to delete\n",
    "    * `pop(<index>)`\n",
    "1. When you know the *value* of the item to delete\n",
    "    * `remove(<item>)`"
   ]
  },
  {
   "cell_type": "code",
   "execution_count": 21,
   "metadata": {},
   "outputs": [
    {
     "name": "stdout",
     "output_type": "stream",
     "text": [
      "Seattle\n",
      "['Pullman', 'Spokane', \"Couer d'Alene\"]\n",
      "['Pullman', \"Couer d'Alene\"]\n"
     ]
    }
   ],
   "source": [
    "cities = [\"Pullman\", \"Spokane\", \"Seattle\", \"Couer d'Alene\"]\n",
    "\n",
    "# pop returns the item removed\n",
    "city = cities.pop(2)\n",
    "print(city)\n",
    "print(cities)\n",
    "\n",
    "# remove does not return the item removed\n",
    "cities.remove(\"Spokane\")\n",
    "print(cities)"
   ]
  },
  {
   "cell_type": "markdown",
   "metadata": {},
   "source": [
    "### `del` Keyword and Multiple Item Deletes\n",
    "Alternatively, we can delete an object using the `del` reserved keyword:"
   ]
  },
  {
   "cell_type": "code",
   "execution_count": 22,
   "metadata": {},
   "outputs": [
    {
     "name": "stdout",
     "output_type": "stream",
     "text": [
      "['Pullman', 'Spokane', 'Seattle', \"Couer d'Alene\"]\n",
      "['Pullman', 'Seattle', \"Couer d'Alene\"]\n"
     ]
    }
   ],
   "source": [
    "cities = [\"Pullman\", \"Spokane\", \"Seattle\", \"Couer d'Alene\"]\n",
    "print(cities)\n",
    "\n",
    "# del is not a function\n",
    "del cities[1]\n",
    "print(cities)"
   ]
  },
  {
   "cell_type": "markdown",
   "metadata": {},
   "source": [
    "We may want to delete multiple items at a time. We can do this with a slice and `del`:"
   ]
  },
  {
   "cell_type": "code",
   "execution_count": 23,
   "metadata": {},
   "outputs": [
    {
     "name": "stdout",
     "output_type": "stream",
     "text": [
      "['Pullman', 'Spokane', 'Seattle', \"Couer d'Alene\"]\n",
      "[\"Couer d'Alene\"]\n"
     ]
    }
   ],
   "source": [
    "cities = [\"Pullman\", \"Spokane\", \"Seattle\", \"Couer d'Alene\"]\n",
    "print(cities)\n",
    "\n",
    "del cities[0:3]\n",
    "print(cities)"
   ]
  },
  {
   "cell_type": "markdown",
   "metadata": {},
   "source": [
    "### Relationship Between Strings and Lists\n",
    "A list of single character strings is not a string:"
   ]
  },
  {
   "cell_type": "code",
   "execution_count": 24,
   "metadata": {},
   "outputs": [
    {
     "name": "stdout",
     "output_type": "stream",
     "text": [
      "['c', 'p', 't', 's', '1', '1', '1']\n"
     ]
    }
   ],
   "source": [
    "my_list = [\"c\", \"p\", \"t\", \"s\", \"1\", \"1\", \"1\"]\n",
    "print(\"%s\" %(my_list))"
   ]
  },
  {
   "cell_type": "markdown",
   "metadata": {},
   "source": [
    "### `join()` (string method)\n",
    "However, we can turn a list of strings into a string with the `join()` string method. We need to specify a \"delimiter\" string to use to concatenate the individual strings in a list into a single string:"
   ]
  },
  {
   "cell_type": "code",
   "execution_count": 25,
   "metadata": {},
   "outputs": [
    {
     "name": "stdout",
     "output_type": "stream",
     "text": [
      "cpts215\n",
      "c:)p:)t:)s:)2:)1:)5\n"
     ]
    }
   ],
   "source": [
    "my_list = [\"c\", \"p\", \"t\", \"s\", \"2\", \"1\", \"5\"]\n",
    "delimiter = '' # empty string\n",
    "my_string = delimiter.join(my_list)\n",
    "print(\"%s\" %(my_string))\n",
    "\n",
    "delimiter = ':)'\n",
    "my_string = delimiter.join(my_list)\n",
    "print(\"%s\" %(my_string))"
   ]
  },
  {
   "cell_type": "markdown",
   "metadata": {},
   "source": [
    "### `list()` (function)\n",
    "To convert the string back into a list, we can type cast the string into a list with `list()`:"
   ]
  },
  {
   "cell_type": "code",
   "execution_count": 26,
   "metadata": {},
   "outputs": [
    {
     "name": "stdout",
     "output_type": "stream",
     "text": [
      "['c', 'p', 't', 's', '2', '1', '5']\n"
     ]
    }
   ],
   "source": [
    "my_string = \"cpts215\"\n",
    "my_list = list(my_string)\n",
    "print(my_list)"
   ]
  },
  {
   "cell_type": "markdown",
   "metadata": {},
   "source": [
    "### `split()` (string method)\n",
    "`split(<string delimiter>)` breaks a string into pieces at each `<string delimiter>`. The pieces are returned as a list: "
   ]
  },
  {
   "cell_type": "code",
   "execution_count": 27,
   "metadata": {},
   "outputs": [
    {
     "name": "stdout",
     "output_type": "stream",
     "text": [
      "['hello', 'how', 'are', 'you']\n"
     ]
    }
   ],
   "source": [
    "sentence = \"hello how are you\"\n",
    "pieces = sentence.split(\" \")\n",
    "print(pieces)"
   ]
  },
  {
   "cell_type": "markdown",
   "metadata": {},
   "source": [
    "## Aliasing\n",
    "When we declare a list variable, as in `list1 = [0, 1, 2, 3]`, a list *object* is created. We say the variable `list1` is a *reference* to the list object `[0, 1, 2, 3]`. In memory, this looks like the following:\n",
    "![](https://raw.githubusercontent.com/GonzagaCPSC222/U2-Python-Basics/master/figures/reference_example.png)\n",
    "\n",
    "If we declare another list variable, `list2 = [0, 1, 2, 3]`, `list2` refers to a *different* list object, even though both objects that `list1` and `list2` refer to contain the same items:\n",
    "![](https://raw.githubusercontent.com/GonzagaCPSC222/U2-Python-Basics/master/figures/references_multiple_example.png)\n",
    "\n",
    "We can test if `list1` and `list2` refer to lists that contain the same elements:"
   ]
  },
  {
   "cell_type": "code",
   "execution_count": 28,
   "metadata": {},
   "outputs": [
    {
     "name": "stdout",
     "output_type": "stream",
     "text": [
      "True\n"
     ]
    }
   ],
   "source": [
    "list1 = [0, 1, 2, 3]\n",
    "list2 = [0, 1, 2, 3]\n",
    "print(list1 == list2)"
   ]
  },
  {
   "cell_type": "markdown",
   "metadata": {},
   "source": [
    "To test if `list1` and `list2` *refer* to the same list object, we can use the Python reserved keyword, `is`. `is` tests whether two variables refer to the same object: "
   ]
  },
  {
   "cell_type": "code",
   "execution_count": 29,
   "metadata": {},
   "outputs": [
    {
     "name": "stdout",
     "output_type": "stream",
     "text": [
      "False\n"
     ]
    }
   ],
   "source": [
    "list1 = [0, 1, 2, 3]\n",
    "list2 = [0, 1, 2, 3]\n",
    "print(list1 is list2)"
   ]
  },
  {
   "cell_type": "markdown",
   "metadata": {},
   "source": [
    "Note: Python is intelligent! Since strings are immutable, only one object is created in the following code:"
   ]
  },
  {
   "cell_type": "code",
   "execution_count": 30,
   "metadata": {},
   "outputs": [
    {
     "name": "stdout",
     "output_type": "stream",
     "text": [
      "True\n",
      "True\n"
     ]
    }
   ],
   "source": [
    "string1 = \"hello\"\n",
    "string2 = \"hello\"\n",
    "print(string1 == string2)\n",
    "print(string1 is string2)"
   ]
  },
  {
   "cell_type": "markdown",
   "metadata": {},
   "source": [
    "In the above code, both `string1` and `string2` refer to the same string object. This phenomenon is called *aliasing*. \n",
    "\n",
    "Let's return to our list example and see aliasing at work. \n",
    "\n",
    "If instead of assigning `list2` to a new list object, we assign `list2` to `list1`: `list2 = list1`, `list2` refers to the same object as `list1`.\n",
    "![](https://raw.githubusercontent.com/GonzagaCPSC222/U2-Python-Basics/master/figures/alias_example.png)\n",
    "\n",
    "We now say the object is *aliased*, because it has more than one reference, or alias.\n",
    "\n",
    "If the aliased object is mutable, either reference can modify the object:"
   ]
  },
  {
   "cell_type": "code",
   "execution_count": 31,
   "metadata": {},
   "outputs": [
    {
     "name": "stdout",
     "output_type": "stream",
     "text": [
      "[0, 1, 2, 3]\n",
      "[0, 1, 2, 3]\n",
      "[0, 1, 100, 3]\n",
      "[0, 1, 100, 3]\n",
      "\n",
      "\n",
      "[0, 1, 2, 3]\n",
      "[0, 1, 2, 3]\n",
      "[0, 1, 2, 3]\n",
      "[0, 1, 100, 3]\n"
     ]
    }
   ],
   "source": [
    "# same object aliased by list1 and list2\n",
    "list1 = [0, 1, 2, 3]\n",
    "list2 = list1\n",
    "print(list1)\n",
    "print(list2)\n",
    "list2[2] = 100\n",
    "print(list1)\n",
    "print(list2)\n",
    "print(\"\\n\")\n",
    "\n",
    "# compared to creating two separate objects list1 and list2\n",
    "list1 = [0, 1, 2, 3]\n",
    "list2 = [0, 1, 2, 3]\n",
    "print(list1)\n",
    "print(list2)\n",
    "list2[2] = 100\n",
    "print(list1)\n",
    "print(list2)"
   ]
  },
  {
   "cell_type": "markdown",
   "metadata": {},
   "source": [
    "Aliasing is important to keep in mind, especially when passing lists as arguments."
   ]
  },
  {
   "cell_type": "markdown",
   "metadata": {},
   "source": [
    "## Lists Arguments\n",
    "We can pass lists into functions as arguments:"
   ]
  },
  {
   "cell_type": "code",
   "execution_count": 32,
   "metadata": {},
   "outputs": [
    {
     "name": "stdout",
     "output_type": "stream",
     "text": [
      "0.0 0.2 0.4 "
     ]
    }
   ],
   "source": [
    "def pretty_print_list(list_to_print):\n",
    "    '''\n",
    "    \n",
    "    '''\n",
    "    for value in list_to_print:\n",
    "        print(value, end=\" \")\n",
    "\n",
    "numbers = [0.0, 0.2, 0.4]\n",
    "pretty_print_list(numbers)"
   ]
  },
  {
   "cell_type": "markdown",
   "metadata": {},
   "source": [
    "When a list is passed as an argument to a function, the function parameter variable is a *reference* to the list, making the list *aliased*. This means that if we modify a list in our function, the change to the object persists and the calling code will see the change.\n",
    "\n",
    "In the example above, `numbers` and `list_to_print` are aliases to the list object `[0.0, 0.2, 0.4]`. If `pretty_print_list()` can use `list_to_print` to modify the object. \n",
    "\n",
    "Let's write a new function, `add_one()`, that adds one to each value in a list:"
   ]
  },
  {
   "cell_type": "code",
   "execution_count": 33,
   "metadata": {},
   "outputs": [
    {
     "name": "stdout",
     "output_type": "stream",
     "text": [
      "[0.0, 0.2, 0.4]\n",
      "[1.0, 1.2, 1.4]\n"
     ]
    }
   ],
   "source": [
    "def add_one(list_arg):\n",
    "    '''\n",
    "    \n",
    "    '''\n",
    "    for i in range(len(list_arg)):\n",
    "        list_arg[i] += 1\n",
    "\n",
    "numbers = [0.0, 0.2, 0.4]\n",
    "print(numbers)\n",
    "add_one(numbers)\n",
    "print(numbers)"
   ]
  },
  {
   "cell_type": "markdown",
   "metadata": {},
   "source": [
    "## Returning Lists\n",
    "We can write functions that return lists. Consider a function that returns a list of numbers from arguments `start_index` to `end_index + 1`:"
   ]
  },
  {
   "cell_type": "code",
   "execution_count": 34,
   "metadata": {},
   "outputs": [
    {
     "name": "stdout",
     "output_type": "stream",
     "text": [
      "[0, 1, 2, 3, 4, 5, 6, 7, 8, 9]\n"
     ]
    }
   ],
   "source": [
    "def create_sequence(start_index, end_index):\n",
    "    '''\n",
    "    \n",
    "    '''\n",
    "    sequence = []\n",
    "    \n",
    "    for i in range(start_index, end_index):\n",
    "        sequence.append(i)\n",
    "    return sequence\n",
    "\n",
    "first_ten_nums = create_sequence(0, 10)\n",
    "print(first_ten_nums)"
   ]
  },
  {
   "cell_type": "markdown",
   "metadata": {},
   "source": [
    "## Command Line Arguments\n",
    "We can pass arguments into our Python programs. The arguments will be stored in a list, referenced by `sys.argv`. Note: we will have to `import sys` to get access to `sys.argv`.\n",
    "\n",
    "The first argument is always the name of the script, and is counted in the total number of command line arguments:"
   ]
  },
  {
   "cell_type": "code",
   "execution_count": 35,
   "metadata": {},
   "outputs": [
    {
     "name": "stdout",
     "output_type": "stream",
     "text": [
      "['/Users/gsprint/anaconda3/lib/python3.7/site-packages/ipykernel_launcher.py', '-f', '/Users/gsprint/Library/Jupyter/runtime/kernel-24d5aa8c-29cf-4cf8-b6ff-6753259d0341.json']\n",
      "3\n"
     ]
    }
   ],
   "source": [
    "import sys\n",
    "\n",
    "print(sys.argv)\n",
    "print(len(sys.argv))"
   ]
  },
  {
   "cell_type": "markdown",
   "metadata": {},
   "source": [
    "### 1D List Practice Problem\n",
    "In ListFun, write code that generates 20 numbers between 1 and 10 inclusive and puts them in a 1D list. The program then does the following using the list:\n",
    "* Prints the numbers all one line, each number separated by a space\n",
    "* Sorts the list using a list method\n",
    "* Prints the largest and smallest number in the list\n",
    "    * Hint: can you take advantage of the current ordering of your list?\n",
    "* Determines the number of times a user-specified number is in the list \n",
    "* Removes all instances of a user-specified number in the list. If the number is not in the list print the message: \"Sorry, your number is not here!\"\n",
    "\n",
    "Note: for practice with functions, try solving this problem using functions :)"
   ]
  }
 ],
 "metadata": {
  "anaconda-cloud": {},
  "kernelspec": {
   "display_name": "Python 3",
   "language": "python",
   "name": "python3"
  },
  "language_info": {
   "codemirror_mode": {
    "name": "ipython",
    "version": 3
   },
   "file_extension": ".py",
   "mimetype": "text/x-python",
   "name": "python",
   "nbconvert_exporter": "python",
   "pygments_lexer": "ipython3",
   "version": "3.7.4"
  }
 },
 "nbformat": 4,
 "nbformat_minor": 4
}
