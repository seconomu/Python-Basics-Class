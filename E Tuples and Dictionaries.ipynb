{
 "cells": [
  {
   "cell_type": "markdown",
   "metadata": {},
   "source": [
    "# [CPSC 222](https://github.com/GonzagaCPSC222) Intro to Data Science\n",
    "[Gonzaga University](https://www.gonzaga.edu/)\n",
    "\n",
    "[Gina Sprint](http://cs.gonzaga.edu/faculty/sprint/)\n",
    "\n",
    "\n",
    "# Tuples and Dictionaries\n",
    "\n",
    "What are our learning objectives for this lesson?\n",
    "* Work with commonly used built-in Python data structures\n",
    "    * Tuples\n",
    "    * Dictionaries\n",
    "\n",
    "Content used in this lesson is based upon information in the following sources:\n",
    "* None to report"
   ]
  },
  {
   "cell_type": "markdown",
   "metadata": {},
   "source": [
    "## Tuples\n",
    "Tuples are immutable lists. They are declared as a comma separated list, with or without parentheses:"
   ]
  },
  {
   "cell_type": "code",
   "execution_count": 36,
   "metadata": {},
   "outputs": [
    {
     "name": "stdout",
     "output_type": "stream",
     "text": [
      "('x', 'y', 'z')\n",
      "<class 'tuple'>\n",
      "(1,)\n",
      "a\n",
      "<class 'str'>\n",
      "()\n",
      "<class 'tuple'>\n"
     ]
    }
   ],
   "source": [
    "my_tuple = \"x\", \"y\", \"z\"\n",
    "print(my_tuple)\n",
    "print(type(my_tuple))\n",
    "\n",
    "# need a comma after a single element initialization\n",
    "my_tuple2 = (1, )\n",
    "print(my_tuple2)\n",
    "\n",
    "# need a comma after a single element initialization\n",
    "not_a_tuple = (\"a\")\n",
    "print(not_a_tuple)\n",
    "print(type(not_a_tuple))\n",
    "\n",
    "# creating an empty tuple\n",
    "empty_tuple = tuple()\n",
    "print(empty_tuple)\n",
    "print(type(empty_tuple))"
   ]
  },
  {
   "cell_type": "markdown",
   "metadata": {},
   "source": [
    "Tuple indexing and slicing works the same as for lists:"
   ]
  },
  {
   "cell_type": "code",
   "execution_count": 37,
   "metadata": {},
   "outputs": [
    {
     "name": "stdout",
     "output_type": "stream",
     "text": [
      "y\n",
      "('x', 'y')\n"
     ]
    }
   ],
   "source": [
    "my_tuple = (\"x\", \"y\", \"z\")\n",
    "print(my_tuple[1])\n",
    "print(my_tuple[0:2])"
   ]
  },
  {
   "cell_type": "markdown",
   "metadata": {},
   "source": [
    "HOWEVER, tuples are immutable, so you cannot modify them. The follow code demonstrates the immutability of tuples:"
   ]
  },
  {
   "cell_type": "code",
   "execution_count": 39,
   "metadata": {},
   "outputs": [
    {
     "ename": "TypeError",
     "evalue": "'tuple' object does not support item assignment",
     "output_type": "error",
     "traceback": [
      "\u001b[0;31m---------------------------------------------------------------------------\u001b[0m",
      "\u001b[0;31mTypeError\u001b[0m                                 Traceback (most recent call last)",
      "\u001b[0;32m<ipython-input-39-f1ed5160cbe5>\u001b[0m in \u001b[0;36m<module>\u001b[0;34m\u001b[0m\n\u001b[1;32m      1\u001b[0m \u001b[0mmy_tuple\u001b[0m \u001b[0;34m=\u001b[0m \u001b[0;34m(\u001b[0m\u001b[0;34m\"x\"\u001b[0m\u001b[0;34m,\u001b[0m \u001b[0;34m\"y\"\u001b[0m\u001b[0;34m,\u001b[0m \u001b[0;34m\"z\"\u001b[0m\u001b[0;34m)\u001b[0m\u001b[0;34m\u001b[0m\u001b[0;34m\u001b[0m\u001b[0m\n\u001b[1;32m      2\u001b[0m \u001b[0;31m# crashes! tuples are immutable, you cannot change them\u001b[0m\u001b[0;34m\u001b[0m\u001b[0;34m\u001b[0m\u001b[0;34m\u001b[0m\u001b[0m\n\u001b[0;32m----> 3\u001b[0;31m \u001b[0mmy_tuple\u001b[0m\u001b[0;34m[\u001b[0m\u001b[0;36m2\u001b[0m\u001b[0;34m]\u001b[0m \u001b[0;34m=\u001b[0m \u001b[0;34m\"a\"\u001b[0m\u001b[0;34m\u001b[0m\u001b[0;34m\u001b[0m\u001b[0m\n\u001b[0m",
      "\u001b[0;31mTypeError\u001b[0m: 'tuple' object does not support item assignment"
     ]
    }
   ],
   "source": [
    "my_tuple = (\"x\", \"y\", \"z\")\n",
    "# crashes! tuples are immutable, you cannot change them\n",
    "my_tuple[2] = \"a\""
   ]
  },
  {
   "cell_type": "markdown",
   "metadata": {},
   "source": [
    "## Key-Value Pairs\n",
    "Consider the following set of items:\n",
    "* Your student ID number\n",
    "* Your checking account number\n",
    "* The VIN number on your car\n",
    "* Your social security number\n",
    "\n",
    "What do all of the above items have in common? They are all *unique* identifiers for something. For example, there may be several students named \"John Smith\" at WSU. How is the university to distinguish academic records for multiple John Smiths? They assign a unique *key* to identify each individual student:\n",
    "\n",
    "|ID Number|Last name|First name|\n",
    "|-|-|-|\n",
    "|28905|Smith|Jane|\n",
    "|19485|Smith|John|\n",
    "|28450|Smith|John|\n",
    "|25543|Smith|John|\n",
    "|17834|Smith|Justin|\n",
    "\n",
    "For the other examples, your checking account number is a key that uniquely identifies your account, the VIN is a key that uniquely identifies your car, and your SSN is a key that uniquely identifies you for government purposes.\n",
    "\n",
    "Keys are useful because they *map* keys to values. In the example above, a student ID number of 28905 maps to the academic records of Jane Smith at WSU. The academic record of Jane Smith is called the *value* that the *key* (ID number) maps to. Together, the ID number (28905) and the record (Jane Smith's academic record) form a *key-value pair*. \n",
    "\n",
    "Keys can be represented as a list of unique values (no duplicates). Values can be represented as a list as well (can have duplicates). A single data structure that combines key lists and value lists is called a *dictionary*.\n",
    "\n",
    "## Dictionaries\n",
    "A *dictionary is a list with keys as indices*. Keys can be integers, strings, file objects, etc. Keys cannot be lists. To declare a dictionary, we use the curly braces `{ }`:"
   ]
  },
  {
   "cell_type": "code",
   "execution_count": null,
   "metadata": {},
   "outputs": [],
   "source": [
    "# declares an empty dictionary\n",
    "my_dict = {}\n",
    "print(my_dict)\n",
    "# can also use dict()\n",
    "my_second_dict = dict()\n",
    "print(my_second_dict)"
   ]
  },
  {
   "cell_type": "markdown",
   "metadata": {},
   "source": [
    "We can initialize a dictionary with values using comma separated `key:value` pairs:"
   ]
  },
  {
   "cell_type": "code",
   "execution_count": null,
   "metadata": {},
   "outputs": [],
   "source": [
    "state_capitals = {'washington': 'olympia', 'idaho': 'boise', 'oregon': 'portland'}\n",
    "print(state_capitals)"
   ]
  },
  {
   "cell_type": "markdown",
   "metadata": {},
   "source": [
    "We can create a dictionary from a list of tuples, where each tuple in the list is a key-value pair:"
   ]
  },
  {
   "cell_type": "code",
   "execution_count": 40,
   "metadata": {},
   "outputs": [
    {
     "name": "stdout",
     "output_type": "stream",
     "text": [
      "{'I': 1, 'V': 5, 'X': 10, 'L': 50}\n"
     ]
    }
   ],
   "source": [
    "# roman numerals\n",
    "key_values = [(\"I\", 1), (\"V\", 5), (\"X\", 10), (\"L\", 50)]\n",
    "roman_numerals = dict(key_values)\n",
    "print(roman_numerals)"
   ]
  },
  {
   "cell_type": "markdown",
   "metadata": {},
   "source": [
    "We can also convert a dictionary back to a list of tuples with the dictionary method `items()` and the built-in function `list()`:"
   ]
  },
  {
   "cell_type": "code",
   "execution_count": 41,
   "metadata": {},
   "outputs": [
    {
     "name": "stdout",
     "output_type": "stream",
     "text": [
      "[('I', 1), ('V', 5), ('X', 10), ('L', 50)]\n"
     ]
    }
   ],
   "source": [
    "list_of_tuples = list(roman_numerals.items())\n",
    "print(list_of_tuples)"
   ]
  },
  {
   "cell_type": "markdown",
   "metadata": {},
   "source": [
    "### Compatible Dictionary Data Types\n",
    "#### Keys\n",
    "Dictionary keys can be integers, strings, files, tuples, etc.. Lists cannot be keys.\n",
    "\n",
    "#### Values\n",
    "Values can be any type. For example, we can have string keys and list values:"
   ]
  },
  {
   "cell_type": "code",
   "execution_count": 42,
   "metadata": {},
   "outputs": [
    {
     "name": "stdout",
     "output_type": "stream",
     "text": [
      "{'kiwi': ['brown', 'green'], 'banana': ['yellow'], 'watermelon': ['green', 'red']}\n"
     ]
    }
   ],
   "source": [
    "fruit_colors = {'kiwi': ['brown', 'green'], 'banana': ['yellow'], 'watermelon': ['green', 'red']}\n",
    "print(fruit_colors)"
   ]
  },
  {
   "cell_type": "markdown",
   "metadata": {},
   "source": [
    "### Dictionary Indexing\n",
    "We can access an item via a key using hard brackets `[ ]` (similar to indexing into a list):"
   ]
  },
  {
   "cell_type": "code",
   "execution_count": 43,
   "metadata": {},
   "outputs": [
    {
     "name": "stdout",
     "output_type": "stream",
     "text": [
      "The capital of idaho is boise\n"
     ]
    }
   ],
   "source": [
    "state_capitals = {'washington': 'olympia', 'idaho': 'boise', 'oregon': 'portland'}\n",
    "print(\"The capital of idaho is %s\" %(state_capitals['idaho']))"
   ]
  },
  {
   "cell_type": "markdown",
   "metadata": {},
   "source": [
    "### Adding Key-Value Pairs\n",
    "Since dictionaries are *mutable*, we can add key-value pairs to the dictionary using hard brackets `[ ]`:"
   ]
  },
  {
   "cell_type": "code",
   "execution_count": 44,
   "metadata": {},
   "outputs": [
    {
     "name": "stdout",
     "output_type": "stream",
     "text": [
      "{'washington': 'olympia', 'idaho': 'boise', 'oregon': 'portland'}\n",
      "{'washington': 'olympia', 'idaho': 'boise', 'oregon': 'portland', 'montana': 'helena'}\n"
     ]
    }
   ],
   "source": [
    "state_capitals = {'washington': 'olympia', 'idaho': 'boise', 'oregon': 'portland'}\n",
    "print(state_capitals)\n",
    "\n",
    "state_capitals['montana'] = 'helena'\n",
    "print(state_capitals)"
   ]
  },
  {
   "cell_type": "markdown",
   "metadata": {},
   "source": [
    "Note: keys in a dictionary are not sorted in any particular order.\n",
    "\n",
    "### Dictionary Length with `len()`\n",
    "We can still determine the number of items (key-value pairs) in a dictionary with `len()`:"
   ]
  },
  {
   "cell_type": "code",
   "execution_count": 45,
   "metadata": {},
   "outputs": [
    {
     "name": "stdout",
     "output_type": "stream",
     "text": [
      "3\n"
     ]
    }
   ],
   "source": [
    "state_capitals = {'washington': 'olympia', 'idaho': 'boise', 'oregon': 'portland'}\n",
    "print(len(state_capitals))"
   ]
  },
  {
   "cell_type": "markdown",
   "metadata": {},
   "source": [
    "### Existence of a Key\n",
    "We can also test if a key is a valid key in the dictionary with the `in` keyword:"
   ]
  },
  {
   "cell_type": "code",
   "execution_count": 46,
   "metadata": {},
   "outputs": [
    {
     "name": "stdout",
     "output_type": "stream",
     "text": [
      "False\n",
      "True\n",
      "False\n"
     ]
    }
   ],
   "source": [
    "state_capitals = {'washington': 'olympia', 'idaho': 'boise', 'oregon': 'portland'}\n",
    "\n",
    "print('california' in state_capitals)\n",
    "print('idaho' in state_capitals)\n",
    "print('olympia' in state_capitals)"
   ]
  },
  {
   "cell_type": "markdown",
   "metadata": {},
   "source": [
    "## Looping through a Dictionary\n",
    "We can traverse a dictionary easily with a `for` loop that walks through each key in the dictionary:"
   ]
  },
  {
   "cell_type": "code",
   "execution_count": 47,
   "metadata": {},
   "outputs": [
    {
     "name": "stdout",
     "output_type": "stream",
     "text": [
      "square: 4\n",
      "triangle: 3\n",
      "pentagon: 5\n",
      "rectangle: 4\n"
     ]
    }
   ],
   "source": [
    "sides = {'square': 4, 'triangle': 3, 'pentagon': 5, 'rectangle': 4}\n",
    "\n",
    "for side in sides:\n",
    "    print(side, sides[side], sep= \": \")"
   ]
  },
  {
   "cell_type": "markdown",
   "metadata": {},
   "source": [
    "## Example Problem: Letter Frequencies\n",
    "Suppose we want to keep track of the frequency of letters in a word. For example, the word \"hello\" has 4 letters with the following frequencies:\n",
    "* h: 1\n",
    "* e: 1\n",
    "* l: 2\n",
    "* o: 1\n",
    "\n",
    "Let's write a program to prompt the user to enter a word. Our program will tell the user the frequency of each letter in the word. We could solve this problem with either a list or a dictionary:\n",
    "* List solution\n",
    "    1. Create a list with 26 zeros\n",
    "    1. Write a function to convert a letter into an integer in the range [0-25] to index into the list. We can do this with the `ord(<character>)` function and ASCII codes...\n",
    "    1. Walk through the word and increment the corresponding list position for each letter\n",
    "    1. Convert the index of non-zero list entries back to characters using `char(<integer>)` to print out the histogram results\n",
    "* Dictionary solution\n",
    "    1. Create an empty dictionary\n",
    "    1. Walk through the word and add the letter to the dictionary with a count of zero if the letter is not already a key, increment otherwise.\n",
    "    \n",
    "The dictionary solution lends itself more suitable to this problem because we do not have to allocate space for all letters ahead of time and we don't have to perform a character to integer conversion to index into the data structure."
   ]
  },
  {
   "cell_type": "code",
   "execution_count": 48,
   "metadata": {},
   "outputs": [
    {
     "name": "stdout",
     "output_type": "stream",
     "text": [
      "{'h': 1, 'e': 1, 'l': 2, 'o': 1}\n",
      "{'m': 1, 'i': 4, 's': 4, 'p': 2}\n"
     ]
    }
   ],
   "source": [
    "def compute_letter_frequencies(word):\n",
    "    '''\n",
    "    \n",
    "    '''\n",
    "    histogram = {}\n",
    "    \n",
    "    for letter in word:\n",
    "        if letter in histogram:\n",
    "            histogram[letter] += 1\n",
    "        else:\n",
    "            histogram[letter] = 1\n",
    "    return histogram\n",
    "\n",
    "print(compute_letter_frequencies(\"hello\"))\n",
    "print(compute_letter_frequencies(\"mississippi\"))"
   ]
  },
  {
   "cell_type": "markdown",
   "metadata": {},
   "source": [
    "Compared to the list solution:"
   ]
  },
  {
   "cell_type": "code",
   "execution_count": 49,
   "metadata": {},
   "outputs": [
    {
     "name": "stdout",
     "output_type": "stream",
     "text": [
      "e: 1 h: 1 l: 2 o: 1 \n"
     ]
    }
   ],
   "source": [
    "def letter_to_index(letter):\n",
    "    '''\n",
    "    \n",
    "    '''\n",
    "    ascii_val = ord(letter)\n",
    "    index = ascii_val - ord('a')\n",
    "    return index\n",
    "\n",
    "def index_to_letter(index):\n",
    "    '''\n",
    "    \n",
    "    '''\n",
    "    ascii_val = index + ord('a')\n",
    "    letter = chr(ascii_val)\n",
    "    return letter\n",
    "    \n",
    "def compute_letter_frequencies_list(word):\n",
    "    '''\n",
    "    \n",
    "    '''\n",
    "    histogram = [0] * 26\n",
    "    \n",
    "    word.lower()\n",
    "    for letter in word:\n",
    "        index = letter_to_index(letter)\n",
    "        histogram[index] += 1\n",
    "    return histogram\n",
    "\n",
    "def pretty_print(histogram):\n",
    "    '''\n",
    "    \n",
    "    '''\n",
    "    for i in range(len(histogram)):\n",
    "        if histogram[i] != 0:\n",
    "            letter = index_to_letter(i)\n",
    "            print(\"%s: %d\" %(letter, histogram[i]), end=\" \")\n",
    "    print(\"\")\n",
    "\n",
    "histogram = compute_letter_frequencies_list(\"hello\")\n",
    "pretty_print(histogram)"
   ]
  },
  {
   "cell_type": "markdown",
   "metadata": {},
   "source": [
    "Note: We have now seen lists of tuples, lists of lists, dictionaries of lists, etc. In general, we can have sequences of sequences. The types of sequences that can be nested and the number of nesting levels is up to you, the programmer!"
   ]
  }
 ],
 "metadata": {
  "anaconda-cloud": {},
  "kernelspec": {
   "display_name": "Python 3",
   "language": "python",
   "name": "python3"
  },
  "language_info": {
   "codemirror_mode": {
    "name": "ipython",
    "version": 3
   },
   "file_extension": ".py",
   "mimetype": "text/x-python",
   "name": "python",
   "nbconvert_exporter": "python",
   "pygments_lexer": "ipython3",
   "version": "3.7.1"
  }
 },
 "nbformat": 4,
 "nbformat_minor": 4
}
