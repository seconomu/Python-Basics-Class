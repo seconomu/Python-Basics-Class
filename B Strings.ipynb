{
 "cells": [
  {
   "cell_type": "markdown",
   "metadata": {},
   "source": [
    "# [CPSC 222](https://github.com/GonzagaCPSC222) Intro to Data Science\n",
    "[Gonzaga University](https://www.gonzaga.edu/)\n",
    "\n",
    "[Gina Sprint](http://cs.gonzaga.edu/faculty/sprint/)\n",
    "\n",
    "\n",
    "# Strings\n",
    "\n",
    "What are our learning objectives for this lesson?\n",
    "* Apply basic string operations\n",
    "\n",
    "Content used in this lesson is based upon information in the following sources:\n",
    "* None to report"
   ]
  },
  {
   "cell_type": "markdown",
   "metadata": {},
   "source": [
    "## Warm up Task(s) 9/9\n",
    "* Which Python data type would be best to represent the following? For each problem, choose `int`, `float`, or `str` only.\n",
    "    * Gender:\n",
    "    * Average of 10 numbers:\n",
    "    * Number of students in this class: \n",
    "    * Price of a gallon of milk: \n",
    "* What are the three kinds of programming errors? Can you give an example of each?\n",
    "* Rank the order of precedence for the following operators (1 is the highest precedence, 5 is the lowest precedence):\n",
    "    * `+ # binary addition`\n",
    "    * `- # unary minus (e.g. negation)`\n",
    "    * `// # integer division`\n",
    "    * `= # assignment`\n",
    "    * `() # parentheses`\n",
    "* Evaluate each of the following Python expressions and determine the resultant data type:\n",
    "    1. 4 / 12 =\n",
    "    1. 4 // 12 =\n",
    "    1. 4 % 12 =\n",
    "    1. 7 // 4 =\n",
    "    1. 9.0 / 4.0 =\n",
    "    1. 3 / 0 =\n",
    "    1. 3.0 % 1 = (note that % is mod... it is the remainder after integer division)\n",
    "    1. 16 % 0 =\n",
    "    1. 3 % 5 =\n",
    "    1. 9 % 5 =\n",
    "    1. `2 * 4 ** 2 =`\n",
    "    1. `2 ** 4 ** (2 / 4) =`\n",
    "* Open PythonBasicsFun/main.py from last class\n",
    "    * If you want a copy of my code, you can get it at https://github.com/GonzagaCPSC222/U2-Python-Basics\n",
    "\n",
    "## Today 9/9\n",
    "* Attendance\n",
    "* Announcements\n",
    "    * PQ2 is due Monday night\n",
    "    * DA1 is posted. Please get started on at least the Project and Ethics parts. We do have more programming topics to cover for DA1 :)\n",
    "        * Any questions on it so far?\n",
    "    * Programming takes LOTS of practice. Check out the lab tasks here for extra practice: https://github.com/gsprint23/cpts111\n",
    "    * You can compare changes in different commits for a file by going to the project explorer side bar in VS code and clicking on Timeline at the bottom\n",
    "    * Note on the shortage of programmers during the early part of the pandemic story and [21 Lessons for the 21st Century](https://www.ynharari.com/book/21-lessons-book/)\n",
    "* PythonBasicsFun\n",
    "* IQ1 last ~15 mins of class"
   ]
  },
  {
   "cell_type": "markdown",
   "metadata": {},
   "source": [
    "## Warm-up Task(s) 9/14\n",
    "* Write the following equation as a Python arithmetic statement: $q = \\frac{kA(T_1 - T_2)}{L}$\n",
    "* Show the output displayed by the following program when the data entered are 12 for m and 0 for n:"
   ]
  },
  {
   "cell_type": "code",
   "execution_count": null,
   "metadata": {},
   "outputs": [],
   "source": [
    "m = int(input(\"Enter an integer> \"))\n",
    "n = int(input(\"Enter an integer> \"))\n",
    "m = m + 5\n",
    "n = 3 * n\n",
    "print(\"m =\", m, \"\\nn =\", n)"
   ]
  },
  {
   "cell_type": "markdown",
   "metadata": {},
   "source": [
    "* Open PythonBasicsFun/main.py from last class\n",
    "* (we will try this in a bit, once we do a few demos of loops together...) Write a for loop to print the first 20 even numbers all on one line separated by a comma and a space (e.g. 2, 4, ..., 38, 40)\n",
    "    * Hint: the `range()` function accepts 1, 2, or 3 arguments\n",
    "        * `range(stop)` produces a sequence from \\[0, stop) incrementing by one\n",
    "        * `range(start, stop)` produces a sequence from \\[start, stop) incrementing by one\n",
    "        * `range(start, stop, step)` produces a sequence from \\[start, stop) incrementing by step"
   ]
  },
  {
   "cell_type": "markdown",
   "metadata": {},
   "source": [
    "## Today 9/14\n",
    "* Attendance\n",
    "* Announcements\n",
    "    * Nice job on IQ1!! Let's go over it.\n",
    "    * IQ2 next class on Python basics (through loops, which we will get to today)\n",
    "    * DA1 is due Thursday night\n",
    "        * Note the late policy\n",
    "        * Questions on it?\n",
    "    * DA2 will be posted later today\n",
    "    * PQ3 is posted and due Monday night\n",
    "    * There is a Microsoft event tomorrow you might be interested in. See Ed for details (plus updated times)\n",
    "* PythonBasicsFun\n",
    "    * Lots of code!! if statements, help(), loops (while, for), random module, functions, strings"
   ]
  },
  {
   "cell_type": "markdown",
   "metadata": {},
   "source": [
    "## Strings\n",
    "A string is a *sequence of characters*."
   ]
  },
  {
   "cell_type": "code",
   "execution_count": 1,
   "metadata": {},
   "outputs": [
    {
     "name": "stdout",
     "output_type": "stream",
     "text": [
      "PYTHON\n",
      "PYTHON\n",
      "PYTHON 100.0\n"
     ]
    }
   ],
   "source": [
    "print(\"PYTHON\")\n",
    "my_string = \"PYTHON\"\n",
    "print(my_string)\n",
    "print(\"%s %s\" %(my_string, str(100.0)))"
   ]
  },
  {
   "cell_type": "markdown",
   "metadata": {},
   "source": [
    "### String Concatenation\n",
    "We also learned how to make new strings using string concatenation (the `+` operator): `new_string = old_string1 + old_string2`:"
   ]
  },
  {
   "cell_type": "code",
   "execution_count": 7,
   "metadata": {},
   "outputs": [
    {
     "name": "stdout",
     "output_type": "stream",
     "text": [
      "cpts215 uses PYTHON!\n"
     ]
    }
   ],
   "source": [
    "new_string = \"cpts\" + \"215\" + \" uses \" + my_string + \"!\"\n",
    "print(new_string)"
   ]
  },
  {
   "cell_type": "markdown",
   "metadata": {},
   "source": [
    "### Strings and `for` Loops\n",
    "More recently, we learned about sequences in the context of `for` loops:\n",
    "\n",
    "```for <item> in <sequence>:\n",
    "    <body>\n",
    "```\n",
    "\n",
    "We can also use `for` loops to iterate through each character in a string:"
   ]
  },
  {
   "cell_type": "code",
   "execution_count": 8,
   "metadata": {},
   "outputs": [
    {
     "name": "stdout",
     "output_type": "stream",
     "text": [
      "P Y T H O N "
     ]
    }
   ],
   "source": [
    "for character in \"PYTHON\":\n",
    "    print(character, end=\" \")"
   ]
  },
  {
   "cell_type": "markdown",
   "metadata": {},
   "source": [
    "## String Indexing\n",
    "Logically, the string `\"PYTHON\"` is organized as follows:\n",
    "\n",
    "|Index:|0|1|2|3|4|5|\n",
    "|-|-|-|-|-|-|-|\n",
    "|Character:|P|Y|T|H|O|N|\n",
    "\n",
    "In general, a string that has `n` characters has valid indices of 0, 1, ..., `n` - 1.\n",
    "\n",
    "We can access a single character in the string using indexing notation: `[<index>]` (hard brackets):"
   ]
  },
  {
   "cell_type": "code",
   "execution_count": 10,
   "metadata": {},
   "outputs": [
    {
     "name": "stdout",
     "output_type": "stream",
     "text": [
      "P\n",
      "N\n",
      "N\n"
     ]
    }
   ],
   "source": [
    "my_string = \"PYTHON\"\n",
    "\n",
    "print(my_string[0])\n",
    "print(my_string[5])\n",
    "print(my_string[-1])"
   ]
  },
  {
   "cell_type": "markdown",
   "metadata": {},
   "source": [
    "## String Length\n",
    "We can find out the length of a string, meaning the number of characters in the string, by calling the built-in string `len(<string>)` function:"
   ]
  },
  {
   "cell_type": "code",
   "execution_count": 11,
   "metadata": {},
   "outputs": [
    {
     "name": "stdout",
     "output_type": "stream",
     "text": [
      "The length of PYTHON is: 6\n"
     ]
    }
   ],
   "source": [
    "length = len(my_string)\n",
    "print(\"The length of %s is: %d\" %(my_string, length))"
   ]
  },
  {
   "cell_type": "markdown",
   "metadata": {},
   "source": [
    "## String Slicing\n",
    "We can use the `:` operator to select a *slice* of a string: `<string variable>[start_index:end_index + 1]`\n",
    "\n",
    "For example:"
   ]
  },
  {
   "cell_type": "code",
   "execution_count": 12,
   "metadata": {},
   "outputs": [
    {
     "name": "stdout",
     "output_type": "stream",
     "text": [
      "YT\n",
      "215\n"
     ]
    }
   ],
   "source": [
    "# Get the YT of PYTHON\n",
    "print(my_string[1:3])\n",
    "\n",
    "course = \"CptS215\"\n",
    "\n",
    "# get a slice of the 215\n",
    "course_num = course[4:7]\n",
    "print(course_num)"
   ]
  },
  {
   "cell_type": "markdown",
   "metadata": {},
   "source": [
    "Omitting the start index implies a 0 for a start index and omitting an end index implies a `len(<string variable>)` for an end index:"
   ]
  },
  {
   "cell_type": "code",
   "execution_count": 9,
   "metadata": {},
   "outputs": [
    {
     "name": "stdout",
     "output_type": "stream",
     "text": [
      "PY\n",
      "PY\n",
      "THON\n",
      "THON\n"
     ]
    }
   ],
   "source": [
    "# these two are the same\n",
    "print(my_string[0:2])\n",
    "print(my_string[:2])\n",
    "\n",
    "# these two are the same\n",
    "print(my_string[2:len(my_string)])\n",
    "print(my_string[2:])"
   ]
  },
  {
   "cell_type": "markdown",
   "metadata": {},
   "source": [
    "Note: We can also use negative indices! The last index of a string is -1, the second to last index is -2, and so on, until the first index is `-len(<string variable>)`\n",
    "\n",
    "|Index:|0|1|2|3|4|5|\n",
    "|-|-|-|-|-|-|-|\n",
    "|Character:|P|Y|T|H|O|N|\n",
    "|Index:|-6|-5|-4|-3|-2|-1|"
   ]
  },
  {
   "cell_type": "code",
   "execution_count": 10,
   "metadata": {},
   "outputs": [
    {
     "name": "stdout",
     "output_type": "stream",
     "text": [
      "N\n",
      "P\n"
     ]
    }
   ],
   "source": [
    "print(my_string[-1])\n",
    "print(my_string[-6])"
   ]
  },
  {
   "cell_type": "markdown",
   "metadata": {},
   "source": [
    "## Immutability of Strings\n",
    "Strings are *immutable*, meaning they can't be changed. This means we cannot re-assign a character of a string:"
   ]
  },
  {
   "cell_type": "code",
   "execution_count": 13,
   "metadata": {},
   "outputs": [
    {
     "ename": "TypeError",
     "evalue": "'str' object does not support item assignment",
     "output_type": "error",
     "traceback": [
      "\u001b[1;31m---------------------------------------------------------------------------\u001b[0m",
      "\u001b[1;31mTypeError\u001b[0m                                 Traceback (most recent call last)",
      "\u001b[1;32m<ipython-input-13-12bd1ac7aa74>\u001b[0m in \u001b[0;36m<module>\u001b[1;34m()\u001b[0m\n\u001b[0;32m      1\u001b[0m \u001b[1;31m# crashes because strings are immutable\u001b[0m\u001b[1;33m\u001b[0m\u001b[1;33m\u001b[0m\u001b[0m\n\u001b[1;32m----> 2\u001b[1;33m \u001b[0mmy_string\u001b[0m\u001b[1;33m[\u001b[0m\u001b[1;36m0\u001b[0m\u001b[1;33m]\u001b[0m \u001b[1;33m=\u001b[0m \u001b[1;34m\"p\"\u001b[0m\u001b[1;33m\u001b[0m\u001b[0m\n\u001b[0m",
      "\u001b[1;31mTypeError\u001b[0m: 'str' object does not support item assignment"
     ]
    }
   ],
   "source": [
    "# crashes because strings are immutable\n",
    "my_string[0] = \"p\""
   ]
  },
  {
   "cell_type": "markdown",
   "metadata": {},
   "source": [
    "To \"change\" a string (remember strings are immutable), we can make a new string that is a variant of the old string:"
   ]
  },
  {
   "cell_type": "code",
   "execution_count": 14,
   "metadata": {},
   "outputs": [
    {
     "name": "stdout",
     "output_type": "stream",
     "text": [
      "pYTHON\n"
     ]
    }
   ],
   "source": [
    "new_string = \"p\" + my_string[1:]\n",
    "print(new_string)"
   ]
  },
  {
   "cell_type": "markdown",
   "metadata": {},
   "source": [
    "## String Comparison\n",
    "Often we need to compare 2 strings in order to determine if the strings are equal or not (e.g. a 20 questions game or a hang man game). We can use string comparison operators to do this:\n",
    "* == (equality)\n",
    "* != (not equal)\n",
    "* < > (less than or greater than)\n",
    "\n",
    "Note: String comparisons are performed by comparing character [Unicode values](http://dev.networkerror.org/utf8/?start=33&end=133&cols=4&search=&show_uni_int=on&show_uni_hex=on&show_html_ent=on&show_raw_hex=on&show_raw_bin=on), index by index."
   ]
  },
  {
   "cell_type": "code",
   "execution_count": 15,
   "metadata": {},
   "outputs": [
    {
     "name": "stdout",
     "output_type": "stream",
     "text": [
      "True\n",
      "False\n",
      "False\n",
      "True\n"
     ]
    }
   ],
   "source": [
    "print(\"cpts\" == \"cpts\")\n",
    "print(\"cpts\" == \"CptS\")\n",
    "print(\"cpts\" < \"CptS\")\n",
    "print(\"cpts\" > \"CptS\")"
   ]
  },
  {
   "cell_type": "markdown",
   "metadata": {},
   "source": [
    "## String Methods\n",
    "A function that is associated with an object is called a *method*. To call a method, we use the form `<object>.<method name>()`. We have been using methods when we interact with file objects. Recall:\n",
    "\n",
    "```\n",
    "file_object = open(\"file.txt\", \"r\")\n",
    "line = file_object.readline()\n",
    "file_object.close()\n",
    "```\n",
    "\n",
    "There are several string methods that provide useful string operations. To use a string object method, we use the form `<string variable>.<method name>()`. For example, we have been using the string method `strip()`:"
   ]
  },
  {
   "cell_type": "code",
   "execution_count": 16,
   "metadata": {},
   "outputs": [
    {
     "name": "stdout",
     "output_type": "stream",
     "text": [
      "python\n"
     ]
    }
   ],
   "source": [
    "my_string = \"           python           \"\n",
    "my_string = my_string.strip()\n",
    "print(my_string)"
   ]
  },
  {
   "cell_type": "markdown",
   "metadata": {},
   "source": [
    "Useful string method functions include (but are not limited to):\n",
    "* `upper()`: returns the string in uppercase\n",
    "* `lower()`: returns the string in lowercase\n",
    "* `find(<character to find>)`: returns the index of `<character to find>` if `<character to find>` is in the string\n",
    "* `replace(<substring to replace>, <string to replace with>)`: returns a string with all occurrences of `<substring to replace>` replaced with `<string to replace with>`\n",
    "\n",
    "Read more about string methods in the [Python documentation](https://docs.python.org/3.1/library/stdtypes.html#string-methods)"
   ]
  }
 ],
 "metadata": {
  "anaconda-cloud": {},
  "kernelspec": {
   "display_name": "Python 3",
   "language": "python",
   "name": "python3"
  },
  "language_info": {
   "codemirror_mode": {
    "name": "ipython",
    "version": 3
   },
   "file_extension": ".py",
   "mimetype": "text/x-python",
   "name": "python",
   "nbconvert_exporter": "python",
   "pygments_lexer": "ipython3",
   "version": "3.7.4"
  }
 },
 "nbformat": 4,
 "nbformat_minor": 4
}
